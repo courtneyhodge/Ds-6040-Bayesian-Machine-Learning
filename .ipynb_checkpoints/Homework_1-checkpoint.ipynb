{
 "cells": [
  {
   "cell_type": "markdown",
   "id": "7b81d774-f751-4df6-bea7-a282cb8d4c8d",
   "metadata": {},
   "source": [
    "Name: Courtney Hodge\n",
    "\n",
    "Due Date: Sept 20, 2024\n",
    "\n",
    "Assignment: Homework 1"
   ]
  },
  {
   "cell_type": "markdown",
   "id": "2ebdc774-28f4-40d2-b13f-fd8da3c4c0eb",
   "metadata": {},
   "source": [
    "# Homework 1 - Probability and Priors"
   ]
  },
  {
   "cell_type": "markdown",
   "id": "21aa49a5-bc87-483f-98f9-fbca15a350e4",
   "metadata": {},
   "source": [
    "## Problem 1: Basic Probability\n",
    "Alice has a bag with 3 red balls, 2 green balls, and 5 blue balls.\n",
    "\r",
    "((a) What is the probability of drawing a red ball from the bag\n",
    "?\r\n",
    "(b) If Alice draws one ball and it's blue, what's the probability that the next ball she draws is also\r\n",
    "blue?"
   ]
  },
  {
   "cell_type": "markdown",
   "id": "48091f46-4ceb-4984-8f57-764479cad84c",
   "metadata": {},
   "source": [
    "## Problem 2: Independent Events\n",
    "\n",
    "The probability of a server being down in a data center is . The data center is designed\r\n",
    "such that server failures are independent events.\n",
    "(a) ) What is the probability that 2 servers will be down at the same tim\n",
    "e?\r\n",
    "(b) What is the probability that at least one of two servers will be down"
   ]
  },
  {
   "cell_type": "markdown",
   "id": "22d86e36-fa60-4457-812d-1b6f907f68f7",
   "metadata": {},
   "source": [
    "## Problem 3: Conditional Probability\n",
    "\n",
    "In a Machine Learning company, 30% of the employees are Data Scientists, 40% of the Data\r\n",
    "Scientists have PhDs, while onl 10%y of non-Data Scientists have PhDs.\r\n",
    "(a) If an employee is chosen randomly, what is the probability that the employee is a Data\r\n",
    "Scientist with a PhD?\r\n",
    "(b) Given that an employee has a PhD, what is the probability that the employee is a Data\r\n",
    "Scientist?"
   ]
  },
  {
   "cell_type": "code",
   "execution_count": null,
   "id": "8bed7938-d5ff-4fb9-9871-615a9a690826",
   "metadata": {},
   "outputs": [],
   "source": []
  }
 ],
 "metadata": {
  "kernelspec": {
   "display_name": "Python 3 (ipykernel)",
   "language": "python",
   "name": "python3"
  },
  "language_info": {
   "codemirror_mode": {
    "name": "ipython",
    "version": 3
   },
   "file_extension": ".py",
   "mimetype": "text/x-python",
   "name": "python",
   "nbconvert_exporter": "python",
   "pygments_lexer": "ipython3",
   "version": "3.11.7"
  }
 },
 "nbformat": 4,
 "nbformat_minor": 5
}
